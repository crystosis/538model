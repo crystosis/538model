{
  "nbformat": 4,
  "nbformat_minor": 0,
  "metadata": {
    "colab": {
      "name": "PyFinance_1.ipynb",
      "provenance": [],
      "collapsed_sections": [],
      "authorship_tag": "ABX9TyPug5DQXc6UNWplC2WGjEL9",
      "include_colab_link": true
    },
    "kernelspec": {
      "name": "python3",
      "display_name": "Python 3"
    }
  },
  "cells": [
    {
      "cell_type": "markdown",
      "metadata": {
        "id": "view-in-github",
        "colab_type": "text"
      },
      "source": [
        "<a href=\"https://colab.research.google.com/github/crystosis/538model/blob/master/PyFinance_1.ipynb\" target=\"_parent\"><img src=\"https://colab.research.google.com/assets/colab-badge.svg\" alt=\"Open In Colab\"/></a>"
      ]
    },
    {
      "cell_type": "code",
      "metadata": {
        "id": "-Io5VbSE-IdE",
        "colab_type": "code",
        "colab": {}
      },
      "source": [
        "class Vector(object):\n",
        "  def __init__(self, x=0, y=0, z=0):\n",
        "    self.x = x\n",
        "    self.y = y\n",
        "    self.z = z\n",
        "  \n",
        "  def __repr__(self):\n",
        "    return f\"Vector({self.x}, {self.y}, {self.z})\"\n",
        "  \n",
        "  def __abs__(self):\n",
        "    return ((self.x)**2 + (self.y)**2 + (self.z)**2)**0.5\n",
        "\n",
        "  def __bool__(self):\n",
        "    return bool(abs(self))\n",
        "\n",
        "  def __add__(self, other):\n",
        "      x = self.x + other.x\n",
        "      y = self.y + other.y\n",
        "      z = self.z + other.z\n",
        "      return Vector(x,y,z)\n",
        "\n",
        "  def __mul__(self, scalar):\n",
        "      x = self.x * scalar\n",
        "      y = self.y * scalar\n",
        "      z = self.z * scalar\n",
        "      return Vector(x,y,z)\n",
        "\n",
        "  def __len__(self):\n",
        "    return 3\n",
        "\n",
        "  def __getitem__(self, i):\n",
        "    if i in [0, -3]: return self.x\n",
        "    elif i in [1, -2]: return self.y\n",
        "    elif i in [2, -1]: return self.z\n",
        "    else:\n",
        "       raise IndexError(\"Index out of range\")\n",
        "\n",
        "\n",
        "  def __iter__(self):\n",
        "    for i in range(len(self)):\n",
        "      yield self[i]\n"
      ],
      "execution_count": 0,
      "outputs": []
    },
    {
      "cell_type": "code",
      "metadata": {
        "id": "xpkFRp3v-uzW",
        "colab_type": "code",
        "colab": {}
      },
      "source": [
        "v =Vector(2,3,4)\n",
        "\n",
        "d = Vector(3,4,5)"
      ],
      "execution_count": 0,
      "outputs": []
    },
    {
      "cell_type": "code",
      "metadata": {
        "id": "tzmsVqD5-y63",
        "colab_type": "code",
        "outputId": "e13db4ba-f4a1-4f6f-9f03-9fd17745d201",
        "colab": {
          "base_uri": "https://localhost:8080/",
          "height": 34
        }
      },
      "source": [
        "v"
      ],
      "execution_count": 0,
      "outputs": [
        {
          "output_type": "execute_result",
          "data": {
            "text/plain": [
              "Vector(2, 3, 4)"
            ]
          },
          "metadata": {
            "tags": []
          },
          "execution_count": 61
        }
      ]
    },
    {
      "cell_type": "code",
      "metadata": {
        "id": "4tzPqeUSAeb_",
        "colab_type": "code",
        "outputId": "d544c726-2215-4e4a-d8f3-17e7e6394572",
        "colab": {
          "base_uri": "https://localhost:8080/",
          "height": 34
        }
      },
      "source": [
        "d"
      ],
      "execution_count": 0,
      "outputs": [
        {
          "output_type": "execute_result",
          "data": {
            "text/plain": [
              "Vector(3, 4, 5)"
            ]
          },
          "metadata": {
            "tags": []
          },
          "execution_count": 62
        }
      ]
    },
    {
      "cell_type": "code",
      "metadata": {
        "id": "y1-dkaXo-zhC",
        "colab_type": "code",
        "outputId": "42f0fe47-71fe-41cf-ffa0-09f32fde1050",
        "colab": {
          "base_uri": "https://localhost:8080/",
          "height": 34
        }
      },
      "source": [
        "abs(v)"
      ],
      "execution_count": 0,
      "outputs": [
        {
          "output_type": "execute_result",
          "data": {
            "text/plain": [
              "5.385164807134504"
            ]
          },
          "metadata": {
            "tags": []
          },
          "execution_count": 63
        }
      ]
    },
    {
      "cell_type": "code",
      "metadata": {
        "id": "PcvoTaL3_m5Q",
        "colab_type": "code",
        "outputId": "ba9d7347-d311-4dea-e32b-a1fe6cacd6fd",
        "colab": {
          "base_uri": "https://localhost:8080/",
          "height": 34
        }
      },
      "source": [
        "bool(v)"
      ],
      "execution_count": 0,
      "outputs": [
        {
          "output_type": "execute_result",
          "data": {
            "text/plain": [
              "True"
            ]
          },
          "metadata": {
            "tags": []
          },
          "execution_count": 64
        }
      ]
    },
    {
      "cell_type": "code",
      "metadata": {
        "id": "nyv3gEBp_4aX",
        "colab_type": "code",
        "outputId": "39ce759b-178a-490b-b911-975cf9ce3680",
        "colab": {
          "base_uri": "https://localhost:8080/",
          "height": 34
        }
      },
      "source": [
        "v+d #Adding"
      ],
      "execution_count": 0,
      "outputs": [
        {
          "output_type": "execute_result",
          "data": {
            "text/plain": [
              "Vector(5, 7, 9)"
            ]
          },
          "metadata": {
            "tags": []
          },
          "execution_count": 65
        }
      ]
    },
    {
      "cell_type": "code",
      "metadata": {
        "id": "cg1oZDkDAhU9",
        "colab_type": "code",
        "outputId": "c0468473-dbb2-4a74-f5df-df4ca94ede13",
        "colab": {
          "base_uri": "https://localhost:8080/",
          "height": 34
        }
      },
      "source": [
        "v*3 # Mutiplication"
      ],
      "execution_count": 0,
      "outputs": [
        {
          "output_type": "execute_result",
          "data": {
            "text/plain": [
              "Vector(6, 9, 12)"
            ]
          },
          "metadata": {
            "tags": []
          },
          "execution_count": 66
        }
      ]
    },
    {
      "cell_type": "code",
      "metadata": {
        "id": "avJyA8nHA0vj",
        "colab_type": "code",
        "outputId": "f521e780-5fe2-4ac5-d5a7-4e38267babc3",
        "colab": {
          "base_uri": "https://localhost:8080/",
          "height": 34
        }
      },
      "source": [
        "v[1] #indexing"
      ],
      "execution_count": 0,
      "outputs": [
        {
          "output_type": "execute_result",
          "data": {
            "text/plain": [
              "3"
            ]
          },
          "metadata": {
            "tags": []
          },
          "execution_count": 58
        }
      ]
    },
    {
      "cell_type": "code",
      "metadata": {
        "id": "s9-XFy_vKQ9i",
        "colab_type": "code",
        "outputId": "329e4068-e378-493d-ea2f-78adce96eedf",
        "colab": {
          "base_uri": "https://localhost:8080/",
          "height": 68
        }
      },
      "source": [
        "for i in v: #iterating\n",
        "  print (i)"
      ],
      "execution_count": 0,
      "outputs": [
        {
          "output_type": "stream",
          "text": [
            "2\n",
            "3\n",
            "4\n"
          ],
          "name": "stdout"
        }
      ]
    },
    {
      "cell_type": "code",
      "metadata": {
        "id": "2CrjDHIFKxM3",
        "colab_type": "code",
        "colab": {}
      },
      "source": [
        ""
      ],
      "execution_count": 0,
      "outputs": []
    }
  ]
}